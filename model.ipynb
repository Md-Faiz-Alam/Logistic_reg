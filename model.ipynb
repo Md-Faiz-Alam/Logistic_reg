{
  "cells": [
    {
      "cell_type": "code",
      "source": [
        "### smaple\n"
      ],
      "metadata": {
        "id": "Wr9_8aMoOU7z"
      },
      "id": "Wr9_8aMoOU7z",
      "execution_count": null,
      "outputs": []
    },
    {
      "cell_type": "markdown",
      "source": [
        "### Training"
      ],
      "metadata": {
        "id": "7xWritWtOXna"
      },
      "id": "7xWritWtOXna"
    }
  ],
  "metadata": {
    "colab": {
      "provenance": []
    }
  },
  "nbformat": 4,
  "nbformat_minor": 5
}